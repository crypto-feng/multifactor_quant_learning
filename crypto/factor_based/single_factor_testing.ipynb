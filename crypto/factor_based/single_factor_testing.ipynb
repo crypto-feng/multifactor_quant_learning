{
 "cells": [
  {
   "cell_type": "code",
   "execution_count": 20,
   "metadata": {},
   "outputs": [],
   "source": [
    "import numpy as np\n",
    "import pandas as pd\n",
    "import talib as ta\n",
    "import matplotlib.pyplot as plt\n",
    "pd.plotting.register_matplotlib_converters()\n",
    "\n"
   ]
  },
  {
   "cell_type": "code",
   "execution_count": 21,
   "metadata": {},
   "outputs": [],
   "source": [
    "#1. 读取行情数据\n",
    "z = pd.read_csv('510050.SH_15.csv',index_col=0)\n",
    "#z.head()"
   ]
  },
  {
   "cell_type": "code",
   "execution_count": 22,
   "metadata": {},
   "outputs": [],
   "source": [
    "from bolling_band_factor import bolling_band_factor_generator\n",
    "from volatility_factor import calc_vol_mean_reversion_factor\n",
    "from momentum_vol_factor import adaptive_momentum_factor\n",
    "bolling_band_factor = bolling_band_factor_generator(z)\n",
    "volatility_factor = calc_vol_mean_reversion_factor(z['close'])\n",
    "adaptive_momentum_factor = adaptive_momentum_factor(z)\n"
   ]
  },
  {
   "cell_type": "code",
   "execution_count": 23,
   "metadata": {},
   "outputs": [],
   "source": [
    "# v    \n",
    "#volatility_factor"
   ]
  },
  {
   "cell_type": "code",
   "execution_count": 24,
   "metadata": {},
   "outputs": [],
   "source": [
    "#factor = volatility_factor\n",
    "factors = [\n",
    "    bolling_band_factor,\n",
    "    volatility_factor,\n",
    "    adaptive_momentum_factor\n",
    "]\n",
    "factor = factors[2]\n",
    "#factor.hist().set_title(f\"{factor.name}\")\n",
    "\n"
   ]
  },
  {
   "cell_type": "code",
   "execution_count": 25,
   "metadata": {},
   "outputs": [],
   "source": [
    "# 3. 标准化因子\n",
    "def normalize_factor(factor:pd.Series,window:int=2000) -> pd.Series:\n",
    "    return (factor - factor.rolling(window=window).mean()) / factor.rolling(window=window).std()\n",
    "\n",
    "normalized_factor = normalize_factor(factor)\n",
    "#normalized_factor.hist(label=\"normalize_factor\")"
   ]
  },
  {
   "cell_type": "code",
   "execution_count": 26,
   "metadata": {},
   "outputs": [
    {
     "data": {
      "text/plain": [
       "Text(0.5, 1.0, 'adaptive_momentum normalized_factor')"
      ]
     },
     "execution_count": 26,
     "metadata": {},
     "output_type": "execute_result"
    },
    {
     "data": {
      "image/png": "[encoded data removed]",
      "text/plain": [
       "<Figure size 640x480 with 1 Axes>"
      ]
     },
     "metadata": {},
     "output_type": "display_data"
    }
   ],
   "source": [
    "# 5 .因子clip u+-3sigma\n",
    "normalized_factor = normalized_factor.clip(-3,3)\n",
    "normalized_factor.hist().set_title(f\"{factor.name} normalized_factor\")"
   ]
  },
  {
   "cell_type": "code",
   "execution_count": 27,
   "metadata": {},
   "outputs": [],
   "source": [
    "# 4 .计算annual夏普比率\n",
    "# 输入为每日净值序列\n",
    "def cal_sharp(net_values: np.array) -> float:\n",
    "    '''计算夏普比率，risk free rate为无风险年化收益率，trading_days是1年的交易日'''\n",
    "    risk_free_rate = 0.05  # 无风险收益率\n",
    "    trading_days = 252  # 一年的交易日\n",
    "\n",
    "    # 计算收益率\n",
    "    returns = np.diff(net_values) / net_values[:-1]  # 计算相对收益率\n",
    "    mean_return = np.mean(returns)  # 平均收益率\n",
    "\n",
    "    # 计算超额收益率\n",
    "    excess_return = mean_return - risk_free_rate  # 超额收益率\n",
    "\n",
    "    # 计算收益率的标准差\n",
    "    std_dev = np.std(returns,ddof = 1)  # 收益率的标准差\n",
    "\n",
    "    # 计算夏普比率\n",
    "    sharpe_ratio = (excess_return * trading_days) / std_dev  # 年化夏普比率\n",
    "\n",
    "    return sharpe_ratio"
   ]
  },
  {
   "cell_type": "code",
   "execution_count": 28,
   "metadata": {},
   "outputs": [],
   "source": [
    "#all day trading\n",
    "def cal_annual_sharpe_15mins(net_values: np.array, risk_free_rate: float = 0.05) -> float:\n",
    "    # 计算15分钟收益率\n",
    "    returns = np.diff(net_values) / net_values[:-1]\n",
    "\n",
    "    # 计算日收益率\n",
    "    daily_return = (1 + returns) ** 96 - 1\n",
    "\n",
    "    # 计算年化收益率\n",
    "    annual_return = (1 + np.mean(daily_return)) ** 252 - 1\n",
    "\n",
    "    # 计算年化标准差\n",
    "    annual_std_dev = np.std(returns) * np.sqrt(252 * 96)\n",
    "\n",
    "    # 计算超额收益\n",
    "    excess_return = annual_return - risk_free_rate\n",
    "\n",
    "    # 计算年化夏普比率\n",
    "    if annual_std_dev == 0:\n",
    "        return np.nan  # 避免除以零\n",
    "    sharpe_ratio = excess_return / annual_std_dev\n",
    "\n",
    "    return sharpe_ratio\n",
    "\n",
    "\n",
    "\n",
    "def cal_sharp_random(net_values: np.array, period_minutes: int = 15, trading_hours: int = 4) -> float:\n",
    "    '''计算年化夏普比率\n",
    "    Args:\n",
    "        net_values: np.array, 净值序列\n",
    "        period_minutes: int, 数据周期（分钟）\n",
    "        trading_hours: int, 每天交易小时数\n",
    "    Returns:\n",
    "        float: 年化夏普比率\n",
    "    '''\n",
    "    risk_free_rate = 0.03  # 年化无风险收益率\n",
    "    \n",
    "    # 计算年化系数\n",
    "    periods_per_day = (trading_hours * 60) // period_minutes  # 每天的周期数\n",
    "    trading_days = 252  # 一年的交易日数\n",
    "    annual_factor = periods_per_day * trading_days  # 年化系数\n",
    "    \n",
    "    # 计算收益率\n",
    "    returns = np.diff(net_values) / net_values[:-1]\n",
    "    \n",
    "    # 确保returns不为空\n",
    "    if len(returns) == 0:\n",
    "        return np.nan\n",
    "    \n",
    "    # 计算年化收益率和年化标准差\n",
    "    mean_return = np.mean(returns) * annual_factor\n",
    "    std_dev = np.std(returns, ddof=1) * np.sqrt(annual_factor)\n",
    "    \n",
    "    # 确保标准差不为零\n",
    "    if std_dev == 0:\n",
    "        return np.nan\n",
    "        \n",
    "    # 计算超额收益率\n",
    "    excess_return = mean_return - risk_free_rate\n",
    "    \n",
    "    # 计算夏普比率\n",
    "    sharpe_ratio = excess_return / std_dev\n",
    "    \n",
    "    return sharpe_ratio"
   ]
  },
  {
   "cell_type": "code",
   "execution_count": 29,
   "metadata": {},
   "outputs": [
    {
     "data": {
      "text/plain": [
       "count    67053.000000\n",
       "mean        -0.002918\n",
       "std          0.944340\n",
       "min         -3.000000\n",
       "25%         -0.526350\n",
       "50%          0.002803\n",
       "75%          0.511554\n",
       "max          3.000000\n",
       "Name: adaptive_momentum, dtype: float64"
      ]
     },
     "execution_count": 29,
     "metadata": {},
     "output_type": "execute_result"
    }
   ],
   "source": [
    "normalized_factor.describe()"
   ]
  },
  {
   "cell_type": "code",
   "execution_count": 30,
   "metadata": {},
   "outputs": [
    {
     "data": {
      "text/plain": [
       "count    69151.000000\n",
       "mean         0.000028\n",
       "std          0.003812\n",
       "min         -0.063417\n",
       "25%         -0.001566\n",
       "50%          0.000000\n",
       "75%          0.001546\n",
       "max          0.100292\n",
       "Name: close, dtype: float64"
      ]
     },
     "execution_count": 30,
     "metadata": {},
     "output_type": "execute_result"
    }
   ],
   "source": [
    "# 6. 计算行情收益率\n",
    "ret = z['close'].shift(-1) / z['close'] - 1\n",
    "ret.describe()"
   ]
  },
  {
   "cell_type": "code",
   "execution_count": 31,
   "metadata": {},
   "outputs": [],
   "source": [
    "#ret.hist(bins=60)\n"
   ]
  },
  {
   "cell_type": "code",
   "execution_count": 32,
   "metadata": {},
   "outputs": [],
   "source": [
    "# 7. net value calculation \n",
    "# 1+position ratio * return + abs(position ratio change) * rebate\n",
    "\n",
    "def cal_net_values(pos: np.array, ret: np.array) -> np.array:\n",
    "    '''计算净值序列\n",
    "    pos: 仓位ratio[-300%,300%]\n",
    "    ret: 未来1个周期的收益率\n",
    "    '''\n",
    "    fee = 0.0002  # 仓位每次变动的滑损(maker 0.02%， taker 0.05%)\n",
    "    # 使用 np.hstack 组合当前仓位和仓位变化\n",
    "    position_changes = np.hstack((pos[0] - 0, np.abs(np.diff(pos))))\n",
    "    # 计算净值\n",
    "    net_values = 1 + (pos * ret - position_changes * fee).cumsum()\n",
    "    return net_values  # 返回净值序列\n"
   ]
  },
  {
   "cell_type": "code",
   "execution_count": 33,
   "metadata": {},
   "outputs": [],
   "source": [
    "#factor.hist().set_title(f\"{factor.name}\")"
   ]
  },
  {
   "cell_type": "code",
   "execution_count": 34,
   "metadata": {},
   "outputs": [
    {
     "data": {
      "image/png": "[encoded data removed]",
      "text/plain": [
       "<Figure size 640x480 with 1 Axes>"
      ]
     },
     "metadata": {},
     "output_type": "display_data"
    }
   ],
   "source": [
    "# define position ratio == normalized_factor\n",
    "pos = normalized_factor\n",
    "net_values = cal_net_values(pos,ret)\n",
    "\n",
    "plt.plot(net_values.values)\n",
    "plt.title(factor.name)\n",
    "plt.grid(True)\n",
    "plt.show()\n"
   ]
  },
  {
   "cell_type": "code",
   "execution_count": 35,
   "metadata": {},
   "outputs": [
    {
     "data": {
      "text/plain": [
       "-0.2825072987449953"
      ]
     },
     "execution_count": 35,
     "metadata": {},
     "output_type": "execute_result"
    }
   ],
   "source": [
    "# 8. 计算annual夏普比率\n",
    "cleaned_net_values = net_values[~np.isnan(net_values)]\n",
    "sharp = cal_sharp_random(cleaned_net_values,period_minutes=15,trading_hours=4)\n",
    "\n",
    "sharp\n",
    "\n"
   ]
  }
 ],
 "metadata": {
  "kernelspec": {
   "display_name": "myenv",
   "language": "python",
   "name": "python3"
  },
  "language_info": {
   "codemirror_mode": {
    "name": "ipython",
    "version": 3
   },
   "file_extension": ".py",
   "mimetype": "text/x-python",
   "name": "python",
   "nbconvert_exporter": "python",
   "pygments_lexer": "ipython3",
   "version": "3.10.10"
  }
 },
 "nbformat": 4,
 "nbformat_minor": 2
}
